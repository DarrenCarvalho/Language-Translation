{
 "cells": [
  {
   "cell_type": "code",
   "execution_count": 1,
   "metadata": {},
   "outputs": [],
   "source": [
    "import numpy as np\n",
    "import pandas as pd\n",
    "import matplotlib.pyplot as plt\n",
    "from pickle import dump"
   ]
  },
  {
   "cell_type": "code",
   "execution_count": 2,
   "metadata": {},
   "outputs": [],
   "source": [
    "from tensorflow.keras.preprocessing.text import Tokenizer\n",
    "from tensorflow.keras.preprocessing.sequence import pad_sequences\n",
    "from tensorflow.keras.utils import to_categorical\n",
    "from tensorflow.keras.layers import Dense, LSTM, Embedding, RepeatVector, TimeDistributed\n",
    "from tensorflow.keras.callbacks import ModelCheckpoint\n",
    "from tensorflow.keras.models import load_model, Sequential"
   ]
  },
  {
   "cell_type": "code",
   "execution_count": 3,
   "metadata": {},
   "outputs": [],
   "source": [
    "## Drop all duplicate rows \n",
    "\n",
    "df = pd.read_csv(r'data\\deu.txt',sep = '\\t')\n",
    "df.drop_duplicates(subset='1', keep=False, inplace=True)\n",
    "data = np.array(df[:12000])"
   ]
  },
  {
   "cell_type": "markdown",
   "metadata": {},
   "source": [
    "## Preprocessing - punctuations and lower case "
   ]
  },
  {
   "cell_type": "code",
   "execution_count": 4,
   "metadata": {},
   "outputs": [],
   "source": [
    "# Remove Punctuations and Lower Case\n",
    "\n",
    "def processing(data):\n",
    "    clean = []\n",
    "    for words in data:\n",
    "        # Remove Punctuation\n",
    "        cleaned_word = \"\".join(letter for letter in words if letter not in (\"?\", \".\", \";\", \":\", \"!\"))\n",
    "        clean.append(cleaned_word)\n",
    "    # Lower Case\n",
    "    clean = [word.lower() for word in clean]\n",
    "    return clean"
   ]
  },
  {
   "cell_type": "code",
   "execution_count": 5,
   "metadata": {},
   "outputs": [],
   "source": [
    "data[:,0] = processing(data[:,0])\n",
    "data[:,1]= processing(data[:,1])"
   ]
  },
  {
   "cell_type": "markdown",
   "metadata": {},
   "source": [
    "## Tokenizer and max length of i/p and o/p "
   ]
  },
  {
   "cell_type": "code",
   "execution_count": 6,
   "metadata": {},
   "outputs": [],
   "source": [
    "# function to build a tokenizer\n",
    "\n",
    "def tokenization(lines):\n",
    "    tokenizer = Tokenizer()\n",
    "    tokenizer.fit_on_texts(lines)\n",
    "    return tokenizer"
   ]
  },
  {
   "cell_type": "code",
   "execution_count": 7,
   "metadata": {},
   "outputs": [],
   "source": [
    "# sentence length\n",
    "\n",
    "def vocab_length(lines):\n",
    "    lengths = [len(line.split()) for line in lines]\n",
    "    return lengths"
   ]
  },
  {
   "cell_type": "code",
   "execution_count": 8,
   "metadata": {},
   "outputs": [],
   "source": [
    "eng_vocabs = vocab_length(data[:, 0])\n",
    "ger_vocabs = vocab_length(data[:, 1])"
   ]
  },
  {
   "cell_type": "code",
   "execution_count": 9,
   "metadata": {},
   "outputs": [
    {
     "data": {
      "image/png": "[encoded data removed]",
      "text/plain": [
       "<Figure size 864x360 with 2 Axes>"
      ]
     },
     "metadata": {
      "needs_background": "light"
     },
     "output_type": "display_data"
    }
   ],
   "source": [
    "## Distribution of Lengths of English and German Vocabularies\n",
    "\n",
    "plt.figure(figsize=(12,5))\n",
    "plt.subplot(1,2,1)\n",
    "plt.hist(eng_vocabs, bins=7)\n",
    "plt.ylabel('counts')\n",
    "plt.title('English')\n",
    "\n",
    "plt.subplot(1,2,2)\n",
    "plt.hist(ger_vocabs, bins=15)\n",
    "plt.title('German')\n",
    "plt.show()"
   ]
  },
  {
   "cell_type": "code",
   "execution_count": 10,
   "metadata": {},
   "outputs": [
    {
     "name": "stdout",
     "output_type": "stream",
     "text": [
      "English Vocabulary Size: 3390\n",
      "English Max Length: 5\n"
     ]
    }
   ],
   "source": [
    "# English tokenizer\n",
    "\n",
    "eng_tokenizer = tokenization(data[:, 0])\n",
    "eng_vocab_size = len(eng_tokenizer.word_index) + 1\n",
    "eng_length = max(eng_vocabs)\n",
    "\n",
    "print('English Vocabulary Size: %d' % eng_vocab_size)\n",
    "print('English Max Length: %d' % (eng_length))"
   ]
  },
  {
   "cell_type": "code",
   "execution_count": 11,
   "metadata": {},
   "outputs": [
    {
     "name": "stdout",
     "output_type": "stream",
     "text": [
      "German Vocabulary Size:  4419\n",
      "German Max Length:  10\n"
     ]
    }
   ],
   "source": [
    "# German tokenizer\n",
    "\n",
    "ger_tokenizer = tokenization(data[:, 1])\n",
    "ger_vocab_size = len(ger_tokenizer.word_index) + 1\n",
    "ger_length = max(ger_vocabs)\n",
    "\n",
    "print('German Vocabulary Size: ', ger_vocab_size)\n",
    "print('German Max Length: ', ger_length)"
   ]
  },
  {
   "cell_type": "markdown",
   "metadata": {},
   "source": [
    "## Integer Encoding to input "
   ]
  },
  {
   "cell_type": "code",
   "execution_count": 12,
   "metadata": {},
   "outputs": [],
   "source": [
    "# Integer encoding to input sentences and pad sequences to max length\n",
    "\n",
    "def encode_sequences(tokenizer, length, lines):\n",
    "    seq = tokenizer.texts_to_sequences(lines)\n",
    "    seq = pad_sequences(seq, maxlen=length, padding='post')\n",
    "    return seq"
   ]
  },
  {
   "cell_type": "markdown",
   "metadata": {},
   "source": [
    "## One Hot Encoding to output "
   ]
  },
  {
   "cell_type": "code",
   "execution_count": 13,
   "metadata": {},
   "outputs": [],
   "source": [
    "# one hot encode for output sentences\n",
    "\n",
    "def encode_output(sequences, vocab_size):\n",
    "    ylist = list()\n",
    "    for sequence in sequences:\n",
    "        encoded = to_categorical(sequence, num_classes=vocab_size)\n",
    "        ylist.append(encoded)\n",
    "    y = np.array(ylist)\n",
    "    y = y.reshape(sequences.shape[0], sequences.shape[1], vocab_size)\n",
    "    return y"
   ]
  },
  {
   "cell_type": "code",
   "execution_count": 14,
   "metadata": {},
   "outputs": [],
   "source": [
    "from sklearn.model_selection import train_test_split\n",
    "train, test = train_test_split(data, test_size=0.2, random_state = 42)"
   ]
  },
  {
   "cell_type": "code",
   "execution_count": 15,
   "metadata": {},
   "outputs": [],
   "source": [
    "#  Training data\n",
    "x_train = encode_sequences(eng_tokenizer, eng_length, train[:, 0])\n",
    "y_train = encode_sequences(ger_tokenizer, ger_length, train[:, 1])\n",
    "y_train = encode_output(y_train, ger_vocab_size)\n"
   ]
  },
  {
   "cell_type": "code",
   "execution_count": 17,
   "metadata": {},
   "outputs": [
    {
     "data": {
      "text/plain": [
       "array([[0., 0., 1., ..., 0., 0., 0.],\n",
       "       [0., 0., 0., ..., 0., 0., 0.],\n",
       "       [0., 0., 0., ..., 0., 0., 0.],\n",
       "       ...,\n",
       "       [1., 0., 0., ..., 0., 0., 0.],\n",
       "       [1., 0., 0., ..., 0., 0., 0.],\n",
       "       [1., 0., 0., ..., 0., 0., 0.]], dtype=float32)"
      ]
     },
     "execution_count": 17,
     "metadata": {},
     "output_type": "execute_result"
    }
   ],
   "source": [
    "y_train[0]"
   ]
  },
  {
   "cell_type": "code",
   "execution_count": 18,
   "metadata": {},
   "outputs": [],
   "source": [
    "# Test data\n",
    "x_test = encode_sequences(eng_tokenizer, eng_length, test[:, 0])\n",
    "y_test = encode_sequences(ger_tokenizer, ger_length, test[:, 1])\n",
    "y_test = encode_output(y_test, ger_vocab_size)"
   ]
  },
  {
   "cell_type": "code",
   "execution_count": 19,
   "metadata": {},
   "outputs": [
    {
     "name": "stdout",
     "output_type": "stream",
     "text": [
      "Train input shape :  (9600, 5) \n",
      "Train output shape :  (9600, 10, 4419)\n",
      "Test input shape :  (2400, 5) \n",
      "Test output shape :  (2400, 10, 4419)\n"
     ]
    }
   ],
   "source": [
    "print(\"Train input shape : \", x_train.shape, \"\\nTrain output shape : \",y_train.shape)\n",
    "print(\"Test input shape : \",x_test.shape, \"\\nTest output shape : \",y_test.shape)"
   ]
  },
  {
   "cell_type": "code",
   "execution_count": 20,
   "metadata": {},
   "outputs": [],
   "source": [
    "# Seq2Seq Model\n",
    "def define_model(src_vocab, tar_vocab, src_timesteps, tar_timesteps, n_units):\n",
    "      model = Sequential()\n",
    "      model.add(Embedding(src_vocab, n_units, input_length=src_timesteps, mask_zero=True))\n",
    "      model.add(LSTM(n_units))\n",
    "      model.add(RepeatVector(tar_timesteps))\n",
    "      model.add(LSTM(n_units, return_sequences=True))\n",
    "      model.add(TimeDistributed(Dense(tar_vocab, activation='softmax')))\n",
    "      return model"
   ]
  },
  {
   "cell_type": "code",
   "execution_count": 21,
   "metadata": {},
   "outputs": [],
   "source": [
    "model = define_model(eng_vocab_size, ger_vocab_size, eng_length, ger_length, 250)\n",
    "model.compile(optimizer='adam', loss='categorical_crossentropy', metrics=['accuracy'])"
   ]
  },
  {
   "cell_type": "code",
   "execution_count": 22,
   "metadata": {},
   "outputs": [
    {
     "name": "stdout",
     "output_type": "stream",
     "text": [
      "Train on 9600 samples, validate on 2400 samples\n",
      "Epoch 1/2\n",
      "9600/9600 [==============================] - 60s 6ms/sample - loss: 3.2359 - accuracy: 0.6409 - val_loss: 2.3887 - val_accuracy: 0.6610\n",
      "Epoch 2/2\n",
      "9600/9600 [==============================] - 51s 5ms/sample - loss: 2.2599 - accuracy: 0.6653 - val_loss: 2.2299 - val_accuracy: 0.6768\n"
     ]
    },
    {
     "data": {
      "text/plain": [
       "<tensorflow.python.keras.callbacks.History at 0x25402737608>"
      ]
     },
     "execution_count": 22,
     "metadata": {},
     "output_type": "execute_result"
    }
   ],
   "source": [
    "#filename = 'model1.h5'\n",
    "#checkpoint = ModelCheckpoint(filename, monitor='val_loss', verbose=1, save_best_only=True, mode='min')callbacks=[checkpoint],\n",
    "model.fit(trainX, trainY, epochs=2, batch_size=68, validation_data=(testX, testY), verbose=1)"
   ]
  },
  {
   "cell_type": "code",
   "execution_count": 24,
   "metadata": {},
   "outputs": [
    {
     "data": {
      "image/png": "[encoded data removed]",
      "text/plain": [
       "<Figure size 432x288 with 1 Axes>"
      ]
     },
     "metadata": {
      "needs_background": "light"
     },
     "output_type": "display_data"
    }
   ],
   "source": [
    "plt.plot(model.history.history['loss'])\n",
    "plt.plot(model.history.history['val_loss'])\n",
    "plt.legend(['train','validation'])\n",
    "plt.show()"
   ]
  },
  {
   "cell_type": "code",
   "execution_count": 25,
   "metadata": {},
   "outputs": [],
   "source": [
    "loss = model.history.history['loss']\n",
    "accuracy = model.history.history['loss']\n",
    "val_loss = model.history.history['val_loss']\n",
    "val_accuracy = model.history.history['val_accuracy']"
   ]
  },
  {
   "cell_type": "code",
   "execution_count": null,
   "metadata": {},
   "outputs": [],
   "source": [
    "dump(loss, open('data/loss.pkl', 'wb'))\n",
    "dump(loss, open('data/accuracy.pkl', 'wb'))\n",
    "dump(loss, open('data/val_loss.pkl', 'wb'))\n",
    "dump(loss, open('data/val_accuracy.pkl', 'wb'))"
   ]
  },
  {
   "cell_type": "code",
   "execution_count": 20,
   "metadata": {},
   "outputs": [],
   "source": [
    "# Model\n",
    "model_file = 'data/26th program/model_colab_gpu.h5'\n",
    "model = load_model(model_file, compile=False)"
   ]
  },
  {
   "cell_type": "code",
   "execution_count": 30,
   "metadata": {},
   "outputs": [
    {
     "name": "stdout",
     "output_type": "stream",
     "text": [
      "Model: \"sequential\"\n",
      "_________________________________________________________________\n",
      "Layer (type)                 Output Shape              Param #   \n",
      "=================================================================\n",
      "embedding (Embedding)        (None, 5, 250)            847500    \n",
      "_________________________________________________________________\n",
      "lstm (LSTM)                  (None, 250)               501000    \n",
      "_________________________________________________________________\n",
      "repeat_vector (RepeatVector) (None, 10, 250)           0         \n",
      "_________________________________________________________________\n",
      "lstm_1 (LSTM)                (None, 10, 250)           501000    \n",
      "_________________________________________________________________\n",
      "time_distributed (TimeDistri (None, 10, 4419)          1109169   \n",
      "=================================================================\n",
      "Total params: 2,958,669\n",
      "Trainable params: 2,958,669\n",
      "Non-trainable params: 0\n",
      "_________________________________________________________________\n"
     ]
    }
   ],
   "source": [
    "model.summary()"
   ]
  },
  {
   "cell_type": "markdown",
   "metadata": {},
   "source": [
    "## Input English Text to array Encoding "
   ]
  },
  {
   "cell_type": "code",
   "execution_count": 21,
   "metadata": {},
   "outputs": [],
   "source": [
    "def input_to_array(word):\n",
    "    word_list = word.split()\n",
    "\n",
    "    word_list = [word.lower() for word in word_list]\n",
    "    punct_remove = []\n",
    "\n",
    "    for txt in word_list:\n",
    "        word_input = \"\".join(u for u in txt if u not in (\"?\", \".\", \";\", \":\", \"!\"))\n",
    "        punct_remove.append(word_input)\n",
    "    \n",
    "    output_array = np.zeros(5)\n",
    "    for i in range(len(punct_remove)):\n",
    "        for key, value in eng_tokenizer.word_index.items():\n",
    "            if key == punct_remove[i]:\n",
    "                np.put(output_array, i, value)\n",
    "            else:\n",
    "                pass\n",
    "    output_array = output_array.astype(int)\n",
    "    output_array = output_array.reshape(1, 5)\n",
    "    \n",
    "    return output_array"
   ]
  },
  {
   "cell_type": "markdown",
   "metadata": {},
   "source": [
    "## Output array to german text Decoding "
   ]
  },
  {
   "cell_type": "code",
   "execution_count": 22,
   "metadata": {},
   "outputs": [],
   "source": [
    "def process_output(pred_value, tokenizer):\n",
    "    #pred_value = model.predict_classes(input_array)\n",
    "    \n",
    "    pred_texts = []\n",
    "    vals = []\n",
    "    for i in pred_value:\n",
    "        for word, index in tokenizer.word_index.items():\n",
    "            if index == i:\n",
    "                worrdd = word\n",
    "                vals.append(worrdd)\n",
    "\n",
    "    output = ' '.join(vals)\n",
    "    pred_texts.append(output)\n",
    "    return pred_texts\n"
   ]
  },
  {
   "cell_type": "markdown",
   "metadata": {},
   "source": [
    "## BLEU Score  "
   ]
  },
  {
   "cell_type": "code",
   "execution_count": 23,
   "metadata": {},
   "outputs": [],
   "source": [
    "pred_test = model.predict_classes(x_test)"
   ]
  },
  {
   "cell_type": "code",
   "execution_count": 24,
   "metadata": {},
   "outputs": [],
   "source": [
    "pred_german = []\n",
    "for i in range(len(pred_test)):\n",
    "    process = process_output(pred_test[i], ger_tokenizer)\n",
    "    pred_german.append(process)"
   ]
  },
  {
   "cell_type": "code",
   "execution_count": 25,
   "metadata": {},
   "outputs": [],
   "source": [
    "pred_german_texts = np.array(pred_german).reshape(2400,)"
   ]
  },
  {
   "cell_type": "code",
   "execution_count": 26,
   "metadata": {},
   "outputs": [],
   "source": [
    "actual_predicted = pd.DataFrame({'actual':test[:,1],'predicted':pred_german_texts})"
   ]
  },
  {
   "cell_type": "code",
   "execution_count": null,
   "metadata": {},
   "outputs": [],
   "source": [
    "actual_predicted.head()"
   ]
  },
  {
   "cell_type": "code",
   "execution_count": 28,
   "metadata": {},
   "outputs": [],
   "source": [
    "actual_predicted['predicted'] = actual_predicted['predicted'].astype(str)"
   ]
  },
  {
   "cell_type": "code",
   "execution_count": 29,
   "metadata": {},
   "outputs": [],
   "source": [
    "## Sample out values with equal length\n",
    "\n",
    "def count_col(data,column):\n",
    "    final_counts = []\n",
    "    for i in range(len(data[column])):\n",
    "        count = len(data[column][i].split())\n",
    "        final_counts.append(count)\n",
    "    return final_counts"
   ]
  },
  {
   "cell_type": "code",
   "execution_count": 30,
   "metadata": {},
   "outputs": [],
   "source": [
    "actual_predicted['act_counts'] = count_col(actual_predicted,'actual')\n",
    "actual_predicted['pred_counts'] = count_col(actual_predicted,'predicted')\n",
    "equal_lengths = actual_predicted[actual_predicted['act_counts']==actual_predicted['pred_counts']].index.tolist()"
   ]
  },
  {
   "cell_type": "code",
   "execution_count": 31,
   "metadata": {},
   "outputs": [],
   "source": [
    "## DATAFRAME OF Equal length actual and predicted values\n",
    "\n",
    "df_bleu = actual_predicted.loc[equal_lengths]"
   ]
  },
  {
   "cell_type": "code",
   "execution_count": null,
   "metadata": {},
   "outputs": [],
   "source": [
    "import nltk\n",
    "from nltk.translate.bleu_score import corpus_bleu"
   ]
  },
  {
   "cell_type": "code",
   "execution_count": null,
   "metadata": {},
   "outputs": [],
   "source": [
    "corpus_bleu(df_bleu['actual'][0:10],df_bleu['predicted'][0:10],weights=(1,0,0,0))"
   ]
  },
  {
   "cell_type": "code",
   "execution_count": null,
   "metadata": {},
   "outputs": [],
   "source": [
    "corpus_bleu(df_bleu['actual'][0:10],df_bleu['predicted'][0:10],weights=(0.5,0.5,0,0))"
   ]
  },
  {
   "cell_type": "code",
   "execution_count": null,
   "metadata": {},
   "outputs": [],
   "source": [
    "corpus_bleu(df_bleu['actual'],df_bleu['predicted'],weights=(0.3,0.3,0.3,0))"
   ]
  },
  {
   "cell_type": "markdown",
   "metadata": {},
   "source": [
    "## Final Check "
   ]
  },
  {
   "cell_type": "code",
   "execution_count": 36,
   "metadata": {},
   "outputs": [
    {
     "name": "stdout",
     "output_type": "stream",
     "text": [
      "Enter a text in English : Hello\n",
      "Output French :  tom\n",
      "Enter a text in English : kutta\n",
      "Output French :  tom\n",
      "Enter a text in English : 123\n"
     ]
    }
   ],
   "source": [
    "flag = True\n",
    "\n",
    "while(flag == True):\n",
    "    input_english = input('Enter a text in English : ')\n",
    "    if( input_english != '123'):\n",
    "        input_array1 = input_to_array(input_english)\n",
    "        decode_sequence = process_output(input_array1, ger_tokenizer)\n",
    "        print(\"Output German : \", decode_sequence)\n",
    "    else:\n",
    "        flag = False"
   ]
  },
  {
   "cell_type": "code",
   "execution_count": null,
   "metadata": {},
   "outputs": [],
   "source": []
  }
 ],
 "metadata": {
  "kernelspec": {
   "display_name": "Python 3",
   "language": "python",
   "name": "python3"
  },
  "language_info": {
   "codemirror_mode": {
    "name": "ipython",
    "version": 3
   },
   "file_extension": ".py",
   "mimetype": "text/x-python",
   "name": "python",
   "nbconvert_exporter": "python",
   "pygments_lexer": "ipython3",
   "version": "3.7.7"
  }
 },
 "nbformat": 4,
 "nbformat_minor": 4
}
