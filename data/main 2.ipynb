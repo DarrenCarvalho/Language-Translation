{
 "cells": [
  {
   "cell_type": "code",
   "execution_count": 1,
   "metadata": {},
   "outputs": [],
   "source": [
    "from pickle import load\n",
    "from tensorflow.keras.models import load_model\n",
    "import numpy as np\n",
    "import matplotlib.pyplot as plt"
   ]
  },
  {
   "cell_type": "code",
   "execution_count": 2,
   "metadata": {},
   "outputs": [],
   "source": [
    "# load a files\n",
    "def load_clean_sentences(filename):\n",
    "    return load(open(filename, 'rb'))\n"
   ]
  },
  {
   "cell_type": "code",
   "execution_count": 3,
   "metadata": {},
   "outputs": [],
   "source": [
    "# English\n",
    "eng_file = 'data/colab/English_tokens.pkl'\n",
    "eng_tokens = load_clean_sentences(eng_file)"
   ]
  },
  {
   "cell_type": "code",
   "execution_count": 4,
   "metadata": {},
   "outputs": [],
   "source": [
    "# German\n",
    "ger_file = 'data/colab/German_tokens.pkl'\n",
    "ger_tokens = load_clean_sentences(ger_file)\n"
   ]
  },
  {
   "cell_type": "code",
   "execution_count": 5,
   "metadata": {},
   "outputs": [],
   "source": [
    "# Model\n",
    "model_file = 'model_4.h5'\n",
    "model = load_model(model_file, compile=False)\n"
   ]
  },
  {
   "cell_type": "code",
   "execution_count": 17,
   "metadata": {},
   "outputs": [],
   "source": [
    "## Loss\n",
    "train_loss = load_clean_sentences('data/colab/loss.pkl')\n",
    "test_loss = load_clean_sentences('data/colab/val_loss.pkl')"
   ]
  },
  {
   "cell_type": "code",
   "execution_count": 21,
   "metadata": {},
   "outputs": [
    {
     "name": "stdout",
     "output_type": "stream",
     "text": [
      "0.13679064810276031 1.5437448024749756\n"
     ]
    }
   ],
   "source": [
    "print(train_loss[-1],test_loss[-1])"
   ]
  },
  {
   "cell_type": "code",
   "execution_count": 24,
   "metadata": {},
   "outputs": [
    {
     "name": "stdout",
     "output_type": "stream",
     "text": [
      "0.9784583449363708 0.8037777543067932\n"
     ]
    }
   ],
   "source": [
    "print(train_accuracy[-1],test_accuracy[-1])"
   ]
  },
  {
   "cell_type": "code",
   "execution_count": 22,
   "metadata": {},
   "outputs": [],
   "source": [
    "## Accuracy\n",
    "train_accuracy = load_clean_sentences('data/colab/accuracy.pkl')\n",
    "test_accuracy = load_clean_sentences('data/colab/val_accuracy.pkl')"
   ]
  },
  {
   "cell_type": "code",
   "execution_count": 23,
   "metadata": {},
   "outputs": [
    {
     "data": {
      "image/png": "[encoded data removed]",
      "text/plain": [
       "<Figure size 432x288 with 1 Axes>"
      ]
     },
     "metadata": {
      "needs_background": "light"
     },
     "output_type": "display_data"
    }
   ],
   "source": [
    "plt.plot(train_accuracy)\n",
    "plt.plot(test_accuracy)\n",
    "plt.legend(['train','test'])\n",
    "plt.title('Accuracy')\n",
    "plt.show()"
   ]
  },
  {
   "cell_type": "code",
   "execution_count": null,
   "metadata": {},
   "outputs": [],
   "source": []
  },
  {
   "cell_type": "code",
   "execution_count": 6,
   "metadata": {},
   "outputs": [],
   "source": [
    "def input_to_array(word):\n",
    "    word_list = word.split()\n",
    "\n",
    "    word_list = [word.lower() for word in word_list]\n",
    "    punct_remove = []\n",
    "\n",
    "    for txt in word_list:\n",
    "        word_input = \"\".join(u for u in txt if u not in (\"?\", \".\", \";\", \":\", \"!\"))\n",
    "        punct_remove.append(word_input)\n",
    "    \n",
    "    output_array = np.zeros(5)\n",
    "    for i in range(len(punct_remove)):\n",
    "        for key, value in eng_tokens.word_index.items():\n",
    "            if key == punct_remove[i]:\n",
    "                np.put(output_array, i, value)\n",
    "            else:\n",
    "                pass\n",
    "    output_array = output_array.astype(int)\n",
    "    output_array = output_array.reshape(1, 5)\n",
    "    \n",
    "    return output_array"
   ]
  },
  {
   "cell_type": "code",
   "execution_count": 7,
   "metadata": {},
   "outputs": [],
   "source": [
    "def process_output(input_array, tokenizer):\n",
    "    pred_value = model.predict_classes(input_array)\n",
    "\n",
    "    vals = []\n",
    "    for i in pred_value[0]:\n",
    "        for word, index in tokenizer.word_index.items():\n",
    "            if index == i:\n",
    "                worrdd = word\n",
    "                vals.append(worrdd)\n",
    "\n",
    "    output = ' '.join(vals)\n",
    "    return output\n"
   ]
  },
  {
   "cell_type": "code",
   "execution_count": 8,
   "metadata": {},
   "outputs": [
    {
     "name": "stdout",
     "output_type": "stream",
     "text": [
      "Enter a text in English : Hello\n",
      "Output French :  hallo\n",
      "Enter a text in English : How are you\n",
      "Output French :  wie geht dir\n",
      "Enter a text in English : 123\n"
     ]
    }
   ],
   "source": [
    "flag = True\n",
    "\n",
    "while(flag == True):\n",
    "    input_english = input('Enter a text in English : ')\n",
    "    if( input_english != '123'):\n",
    "        input_array1 = input_to_array(input_english)\n",
    "        decode_sequence = process_output(input_array1, ger_tokens)\n",
    "        print(\"Output French : \", decode_sequence)\n",
    "    else:\n",
    "        flag = False"
   ]
  },
  {
   "cell_type": "code",
   "execution_count": null,
   "metadata": {},
   "outputs": [],
   "source": []
  }
 ],
 "metadata": {
  "kernelspec": {
   "display_name": "Python 3",
   "language": "python",
   "name": "python3"
  },
  "language_info": {
   "codemirror_mode": {
    "name": "ipython",
    "version": 3
   },
   "file_extension": ".py",
   "mimetype": "text/x-python",
   "name": "python",
   "nbconvert_exporter": "python",
   "pygments_lexer": "ipython3",
   "version": "3.7.7"
  }
 },
 "nbformat": 4,
 "nbformat_minor": 4
}
